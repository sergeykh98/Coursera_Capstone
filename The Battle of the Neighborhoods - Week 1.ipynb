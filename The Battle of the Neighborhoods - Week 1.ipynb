{
 "cells": [
  {
   "cell_type": "markdown",
   "metadata": {},
   "source": [
    "# The Battle of the Neighborhoods - Week 1\n",
    "_Capstone Project — IBM Data Science_"
   ]
  },
  {
   "cell_type": "markdown",
   "metadata": {},
   "source": [
    "### Introduction:"
   ]
  },
  {
   "cell_type": "markdown",
   "metadata": {},
   "source": [
    "Pizza is one of the most widely popular food around the world. From most successful brands to notorious trends, this cuisine arguably the most popular, enjoyable by all and exceptional for some cultures. While originally enjoyed as a western experience, this food bore a unique twist in South Korea throughout its history. \n",
    "Whereas, becoming a unique by its own. Comparing to a typical pizzeria in the United States or Italy, in Korean it can be identified by its authentic variety, combinations and delivery services.\n",
    "\n"
   ]
  },
  {
   "cell_type": "markdown",
   "metadata": {},
   "source": [
    "### Problem Description:"
   ]
  },
  {
   "cell_type": "markdown",
   "metadata": {},
   "source": [
    "This project aims to estimate the best localization to open a new pizzeria in Seoul Central District. Which would help people to know whether in worth time and investments to open this type of business in a specific district.The objective is to locate and recommend best location in Seoul which will be closer to center with the lowest number of of competitors."
   ]
  },
  {
   "cell_type": "markdown",
   "metadata": {},
   "source": [
    "### The Location:"
   ]
  },
  {
   "cell_type": "markdown",
   "metadata": {},
   "source": [
    "__Seoul__, the most populous as well as the multicultural city in South Korea. Like any other capital, the city is a major centre for banking and finance, retailing, world trade, transportation, tourism, real estate, media, advertising, legal services, accountancy, insurance, theatre, fashion, and the arts. Nevertheless, it is as well the famous city known as a birthplace of famous cosmetics, dramas, trends, technological innovations, and most importantly, the deep-rooted history and culture. As it is one of the most highly developed and technologically advanced city, the cost of doing business is also one of the highest."
   ]
  },
  {
   "cell_type": "markdown",
   "metadata": {},
   "source": [
    "### Data section:"
   ]
  },
  {
   "cell_type": "markdown",
   "metadata": {},
   "source": [
    "This report will try to gather data about other restaurants localization, competitors and best localization. To do so I will use the FourSquare API to collect data in Seoul. As its prime data gathering source as it has a database of millions of places, especially their places API which provides the ability to perform location search, location sharing and details about a business."
   ]
  },
  {
   "cell_type": "markdown",
   "metadata": {},
   "source": [
    "### WorkFlow:"
   ]
  },
  {
   "cell_type": "markdown",
   "metadata": {},
   "source": [
    "Using credentials of Foursquare API features of near-by places of the neighborhoods would be mined. Due to http request limitations the number of places per neighborhood parameter would reasonably be set to 100 and the radius parameter would be set to 500.\n"
   ]
  },
  {
   "cell_type": "code",
   "execution_count": null,
   "metadata": {},
   "outputs": [],
   "source": []
  }
 ],
 "metadata": {
  "kernelspec": {
   "display_name": "Python 3",
   "language": "python",
   "name": "python3"
  },
  "language_info": {
   "codemirror_mode": {
    "name": "ipython",
    "version": 3
   },
   "file_extension": ".py",
   "mimetype": "text/x-python",
   "name": "python",
   "nbconvert_exporter": "python",
   "pygments_lexer": "ipython3",
   "version": "3.8.3"
  }
 },
 "nbformat": 4,
 "nbformat_minor": 2
}
