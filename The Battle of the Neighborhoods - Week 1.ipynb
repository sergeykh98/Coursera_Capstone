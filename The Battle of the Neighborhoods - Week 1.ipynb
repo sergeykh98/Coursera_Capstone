{
 "cells": [
  {
   "cell_type": "markdown",
   "metadata": {},
   "source": [
    "# The Battle of the Neighborhoods - Week 1"
   ]
  },
  {
   "cell_type": "markdown",
   "metadata": {},
   "source": [
    "## Introduction & Business Problem :"
   ]
  },
  {
   "cell_type": "markdown",
   "metadata": {},
   "source": [
    "### Problem Background:"
   ]
  },
  {
   "cell_type": "markdown",
   "metadata": {},
   "source": [
    "For the past few years, the exponential growth in popularity of K-Pop (Korean Pop) had likewise induced an increased interest in interest in Korean culture and cuisine worldwide. Thus showing a continues growth of tourism to the core of this trend, specifically the city of Seoul, the most populous as well as the multicultural city in South Korea. Like any other capital, the city is a major centre for banking and finance, retailing, world trade, transportation, tourism, real estate, media, advertising, legal services, accountancy, insurance, theatre, fashion, and the arts. Nevertheless, it is as well the famous city known as a birthplace of famous cosmetics, dramas,  trends, technological innovations, and most importantly, the deep-rooted history and culture. \n",
    "As it is one of the most highly developed and technologically advanced city, the cost of doing business is also one of the highest. Considering how far the country had grown throughout it devasted history, any new business venture or expansion needs to be analysed carefully. The insights derived from the analysis will give a good understanding of the business environment which help in strategically targeting the market. This will help in the reduction of risk, and an uptick in the Return on Investment."
   ]
  },
  {
   "cell_type": "markdown",
   "metadata": {},
   "source": [
    "### Problem Description:"
   ]
  },
  {
   "cell_type": "markdown",
   "metadata": {},
   "source": [
    "As Seoul becomes more multiethnic, the interest in diverse cuisine had seen its growth all over the city. From small pizzerias to more sophisticated restaurants and bars, the city has an estimate of over a hundred local business per district. \n",
    "Having said that this project aims to estimate the best localization to open a Coffeehouse in the city. Prior to launching it’s important to know if the business as a good opportunity. In order to do so, this report will try to gather data about other café localization, competitors and best localization. To do so I will use the FourSquare API to collect data in Seoul.\n"
   ]
  },
  {
   "cell_type": "code",
   "execution_count": null,
   "metadata": {},
   "outputs": [],
   "source": []
  }
 ],
 "metadata": {
  "kernelspec": {
   "display_name": "Python 3",
   "language": "python",
   "name": "python3"
  },
  "language_info": {
   "codemirror_mode": {
    "name": "ipython",
    "version": 3
   },
   "file_extension": ".py",
   "mimetype": "text/x-python",
   "name": "python",
   "nbconvert_exporter": "python",
   "pygments_lexer": "ipython3",
   "version": "3.7.3"
  }
 },
 "nbformat": 4,
 "nbformat_minor": 2
}
