{
 "cells": [
  {
   "cell_type": "markdown",
   "metadata": {},
   "source": [
    "# The Battle of the Neighborhoods - Week 1\n",
    "_Capstone Project — IBM Data Science_"
   ]
  },
  {
   "cell_type": "markdown",
   "metadata": {},
   "source": [
    "### Introduction:"
   ]
  },
  {
   "cell_type": "markdown",
   "metadata": {},
   "source": [
    "Coffee is one of the most widely consumed beverages around the world. From most successful brands to notorious trends, this drink arguably the most popular, enjoyable by all and exceptional for some cultures. While originally enjoyed as a western experience, this drink bore a unique twist in South Korea throughout its history. \n",
    "\n",
    "Whereas, becoming a unique culture by its own. Comparing to a typical cafe in New York where you can enjoy coffee, cafes in Korean can be identified as social hangout locations where you can enjoy both. Having said in Korea, cafe culture commonly based on a theme like cat cafes, flower cafes, board game cafes, virtual reality cafes, and others. Traditional kind of cafes isn't exceptions, whereas streets dominated by famous brands Ediya, Tom N Tom’s, Starbucks, Coffee Bean, as well as small independent cafes. \n",
    "\n"
   ]
  },
  {
   "cell_type": "markdown",
   "metadata": {},
   "source": [
    "### Problem Description:"
   ]
  },
  {
   "cell_type": "markdown",
   "metadata": {},
   "source": [
    "This project aims to estimate the best localization to open a new coffeehouse in Seoul city by doing a comparative analysis between neighbourhoods. Which eventually will help people to know whether in worth time and investments to open this type of business in a distinct district.The objective is to locate and recommend neighborhood of Seoul city which will be best choice to start a cafe."
   ]
  },
  {
   "cell_type": "markdown",
   "metadata": {},
   "source": [
    "### The Location:"
   ]
  },
  {
   "cell_type": "markdown",
   "metadata": {},
   "source": [
    "Seoul, the most populous as well as the multicultural city in South Korea. Like any other capital, the city is a major centre for banking and finance, retailing, world trade, transportation, tourism, real estate, media, advertising, legal services, accountancy, insurance, theatre, fashion, and the arts. Nevertheless, it is as well the famous city known as a birthplace of famous cosmetics, dramas, trends, technological innovations, and most importantly, the deep-rooted history and culture. As it is one of the most highly developed and technologically advanced city, the cost of doing business is also one of the highest. Considering how far the country had grown throughout it devasted history, any new business venture or expansion needs to be analysed carefully. \n"
   ]
  },
  {
   "cell_type": "markdown",
   "metadata": {},
   "source": [
    "### Data section:"
   ]
  },
  {
   "cell_type": "markdown",
   "metadata": {},
   "source": [
    "This report will try to gather data about other cafe localization, competitors and best localization. To do so I will use the FourSquare API to collect data in Seoul. As its prime data gathering source as it has a database of millions of places, especially their places API which provides the ability to perform location search, location sharing and details about a business."
   ]
  },
  {
   "cell_type": "markdown",
   "metadata": {},
   "source": [
    "### WorkFlow:"
   ]
  },
  {
   "cell_type": "markdown",
   "metadata": {},
   "source": [
    "Using credentials of Foursquare API features of near-by places of the neighborhoods would be mined. Due to http request limitations the number of places per neighborhood parameter would reasonably be set to 100 and the radius parameter would be set to 500.\n",
    "\n"
   ]
  },
  {
   "cell_type": "code",
   "execution_count": null,
   "metadata": {},
   "outputs": [],
   "source": []
  }
 ],
 "metadata": {
  "kernelspec": {
   "display_name": "Python 3",
   "language": "python",
   "name": "python3"
  },
  "language_info": {
   "codemirror_mode": {
    "name": "ipython",
    "version": 3
   },
   "file_extension": ".py",
   "mimetype": "text/x-python",
   "name": "python",
   "nbconvert_exporter": "python",
   "pygments_lexer": "ipython3",
   "version": "3.7.3"
  }
 },
 "nbformat": 4,
 "nbformat_minor": 2
}
